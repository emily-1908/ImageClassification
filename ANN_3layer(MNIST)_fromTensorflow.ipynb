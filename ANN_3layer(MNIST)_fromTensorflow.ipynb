{
 "cells": [
  {
   "cell_type": "markdown",
   "metadata": {},
   "source": [
    "# 1. 이미지 데이터에 라벨링, 벡터화하기"
   ]
  },
  {
   "cell_type": "code",
   "execution_count": 2,
   "metadata": {},
   "outputs": [
    {
     "data": {
      "text/plain": [
       "array(['0_zero', '1_one', '2_two', '3_three', '4_four', '5_five', '6_six',\n",
       "       '7_seven', '8_eight', '9_nine'], dtype='<U7')"
      ]
     },
     "execution_count": 2,
     "metadata": {},
     "output_type": "execute_result"
    }
   ],
   "source": [
    "# train data path\n",
    "import os\n",
    "import numpy as np\n",
    "from numpy import array\n",
    "TRAIN_DIR = 'D:/MNIST/trainingSet/'\n",
    "train_folder_list = array(os.listdir(TRAIN_DIR))\n",
    "train_folder_list"
   ]
  },
  {
   "cell_type": "code",
   "execution_count": 3,
   "metadata": {},
   "outputs": [
    {
     "data": {
      "text/plain": [
       "array([0, 1, 2, 3, 4, 5, 6, 7, 8, 9], dtype=int64)"
      ]
     },
     "execution_count": 3,
     "metadata": {},
     "output_type": "execute_result"
    }
   ],
   "source": [
    "# path 라벨링\n",
    "from sklearn.preprocessing import LabelEncoder\n",
    "label_encoder = LabelEncoder()  # LabelEncoder Class 호출\n",
    "integer_encoded = label_encoder.fit_transform(train_folder_list)\n",
    "integer_encoded"
   ]
  },
  {
   "cell_type": "code",
   "execution_count": 4,
   "metadata": {},
   "outputs": [
    {
     "name": "stdout",
     "output_type": "stream",
     "text": [
      "integer_encoded:\n",
      " [[0]\n",
      " [1]\n",
      " [2]\n",
      " [3]\n",
      " [4]\n",
      " [5]\n",
      " [6]\n",
      " [7]\n",
      " [8]\n",
      " [9]]\n",
      "onehot_encoded:\n",
      " [[1. 0. 0. 0. 0. 0. 0. 0. 0. 0.]\n",
      " [0. 1. 0. 0. 0. 0. 0. 0. 0. 0.]\n",
      " [0. 0. 1. 0. 0. 0. 0. 0. 0. 0.]\n",
      " [0. 0. 0. 1. 0. 0. 0. 0. 0. 0.]\n",
      " [0. 0. 0. 0. 1. 0. 0. 0. 0. 0.]\n",
      " [0. 0. 0. 0. 0. 1. 0. 0. 0. 0.]\n",
      " [0. 0. 0. 0. 0. 0. 1. 0. 0. 0.]\n",
      " [0. 0. 0. 0. 0. 0. 0. 1. 0. 0.]\n",
      " [0. 0. 0. 0. 0. 0. 0. 0. 1. 0.]\n",
      " [0. 0. 0. 0. 0. 0. 0. 0. 0. 1.]]\n"
     ]
    },
    {
     "name": "stderr",
     "output_type": "stream",
     "text": [
      "C:\\Users\\tldud\\.conda\\envs\\tldud\\lib\\site-packages\\sklearn\\preprocessing\\_encoders.py:415: FutureWarning: The handling of integer data will change in version 0.22. Currently, the categories are determined based on the range [0, max(values)], while in the future they will be determined based on the unique values.\n",
      "If you want the future behaviour and silence this warning, you can specify \"categories='auto'\".\n",
      "In case you used a LabelEncoder before this OneHotEncoder to convert the categories to integers, then you can now use the OneHotEncoder directly.\n",
      "  warnings.warn(msg, FutureWarning)\n"
     ]
    }
   ],
   "source": [
    "# 라벨링 벡터화\n",
    "from sklearn.preprocessing import OneHotEncoder\n",
    "onehot_encoder = OneHotEncoder(sparse=False) \n",
    "integer_encoded = integer_encoded.reshape(len(integer_encoded), 1)\n",
    "onehot_encoded = onehot_encoder.fit_transform(integer_encoded)\n",
    "print('integer_encoded:\\n', integer_encoded)\n",
    "print('onehot_encoded:\\n', onehot_encoded)"
   ]
  },
  {
   "cell_type": "code",
   "execution_count": 5,
   "metadata": {},
   "outputs": [
    {
     "data": {
      "text/plain": [
       "numpy.ndarray"
      ]
     },
     "execution_count": 5,
     "metadata": {},
     "output_type": "execute_result"
    }
   ],
   "source": [
    "type(onehot_encoded)"
   ]
  },
  {
   "cell_type": "code",
   "execution_count": 6,
   "metadata": {},
   "outputs": [],
   "source": [
    "# 이미지를 불러와서 흑백으로 벡터화 및 라벨링\n",
    "import cv2\n",
    "train_input = []\n",
    "train_label = []\n",
    "for index in range(len(train_folder_list)):\n",
    "    path = os.path.join(TRAIN_DIR, train_folder_list[index])\n",
    "    path = path + '/'\n",
    "    img_list = os.listdir(path)\n",
    "    for img in img_list:\n",
    "        img_path = os.path.join(path, img)\n",
    "        img = cv2.imread(img_path, cv2.IMREAD_GRAYSCALE)\n",
    "        # cv2.imread: paht경로에 있는 이미지를 흑백으로 불러옴\n",
    "        train_input.append([np.array(img)])\n",
    "        train_label.append([np.array(onehot_encoded[index])])"
   ]
  },
  {
   "cell_type": "code",
   "execution_count": 7,
   "metadata": {},
   "outputs": [
    {
     "data": {
      "text/plain": [
       "<matplotlib.image.AxesImage at 0x19d4125c828>"
      ]
     },
     "execution_count": 7,
     "metadata": {},
     "output_type": "execute_result"
    },
    {
     "data": {
      "image/png": "[encoded data removed]",
      "text/plain": [
       "<Figure size 432x288 with 1 Axes>"
      ]
     },
     "metadata": {
      "needs_background": "light"
     },
     "output_type": "display_data"
    }
   ],
   "source": [
    "# 마지막 이미지 시각화\n",
    "%matplotlib inline\n",
    "from matplotlib import pyplot as plt\n",
    "plt.imshow(img, cmap='gray')"
   ]
  },
  {
   "cell_type": "code",
   "execution_count": 8,
   "metadata": {},
   "outputs": [
    {
     "data": {
      "text/plain": [
       "42000"
      ]
     },
     "execution_count": 8,
     "metadata": {},
     "output_type": "execute_result"
    }
   ],
   "source": [
    "len(train_input) #train_input은 [[img],[img],...,[img]] 이런 형태"
   ]
  },
  {
   "cell_type": "markdown",
   "metadata": {},
   "source": [
    "### list형태를 np.array형태(42000,784)로 reshape"
   ]
  },
  {
   "cell_type": "code",
   "execution_count": 9,
   "metadata": {},
   "outputs": [
    {
     "name": "stdout",
     "output_type": "stream",
     "text": [
      "train_input.shape:  (42000, 784)\n",
      "train_label.shape:  (42000, 10)\n"
     ]
    }
   ],
   "source": [
    "train_input = np.reshape(train_input, (-1, 784))\n",
    "# 이때 -1은 정확한 개수를 모를때 사용. -1대신 42000 넣어도 상관x\n",
    "train_label = np.reshape(train_label, (-1, 10))\n",
    "train_input = np.array(train_input).astype(np.float32)\n",
    "train_label = np.array(train_label).astype(np.float32)\n",
    "\n",
    "#데이터 섞기\n",
    "tmp = [[x,y] for x, y in zip(train_input, train_label)]\n",
    "np.random.shuffle(tmp)\n",
    "train_input = np.array([n[0] for n in tmp])\n",
    "train_label = np.array([n[1] for n in tmp])\n",
    "\n",
    "np.save(\"train_data.npy\", train_input)\n",
    "np.save(\"train_label.npy\", train_label)\n",
    "print('train_input.shape: ', train_input.shape)\n",
    "print('train_label.shape: ', train_label.shape)"
   ]
  },
  {
   "cell_type": "markdown",
   "metadata": {},
   "source": [
    "### test 이미지 데이터(200개) 숫자 변환 전체코드"
   ]
  },
  {
   "cell_type": "code",
   "execution_count": 10,
   "metadata": {},
   "outputs": [
    {
     "name": "stderr",
     "output_type": "stream",
     "text": [
      "C:\\Users\\tldud\\.conda\\envs\\tldud\\lib\\site-packages\\sklearn\\preprocessing\\_encoders.py:415: FutureWarning: The handling of integer data will change in version 0.22. Currently, the categories are determined based on the range [0, max(values)], while in the future they will be determined based on the unique values.\n",
      "If you want the future behaviour and silence this warning, you can specify \"categories='auto'\".\n",
      "In case you used a LabelEncoder before this OneHotEncoder to convert the categories to integers, then you can now use the OneHotEncoder directly.\n",
      "  warnings.warn(msg, FutureWarning)\n"
     ]
    }
   ],
   "source": [
    "TEST_DIR = 'D:/MNIST/testSet/'\n",
    "test_folder_list = array(os.listdir(TEST_DIR))\n",
    " \n",
    "test_input = []\n",
    "test_label = []\n",
    " \n",
    "label_encoder = LabelEncoder()\n",
    "integer_encoded = label_encoder.fit_transform(test_folder_list)\n",
    " \n",
    "onehot_encoder = OneHotEncoder(sparse=False) \n",
    "integer_encoded = integer_encoded.reshape(len(integer_encoded), 1)\n",
    "onehot_encoded = onehot_encoder.fit_transform(integer_encoded)\n",
    " \n",
    "for index in range(len(test_folder_list)):\n",
    "    path = os.path.join(TEST_DIR, test_folder_list[index])\n",
    "    path = path + '/'\n",
    "    img_list = os.listdir(path)\n",
    "    for img in img_list:\n",
    "        img_path = os.path.join(path, img)\n",
    "        img = cv2.imread(img_path, cv2.IMREAD_GRAYSCALE)\n",
    "        test_input.append([np.array(img)])\n",
    "        test_label.append([np.array(onehot_encoded[index])])\n",
    " \n",
    "test_input = np.reshape(test_input, (-1, 784))\n",
    "test_label = np.reshape(test_label, (-1, 10))\n",
    "test_input = np.array(test_input).astype(np.float32)\n",
    "test_label = np.array(test_label).astype(np.float32)\n",
    "\n",
    "#데이터 섞기\n",
    "tmp = [[x,y] for x, y in zip(test_input, test_label)]\n",
    "np.random.shuffle(tmp)\n",
    "test_input = np.array([n[0] for n in tmp])\n",
    "test_label = np.array([n[1] for n in tmp])\n",
    "\n",
    "np.save(\"test_input.npy\",test_input)\n",
    "np.save(\"test_label.npy\",test_label)"
   ]
  },
  {
   "cell_type": "markdown",
   "metadata": {},
   "source": [
    "# 2. ANN을 이용한 MNIST 숫자 분류기 구현"
   ]
  },
  {
   "cell_type": "code",
   "execution_count": 11,
   "metadata": {},
   "outputs": [],
   "source": [
    "import tensorflow as tf\n",
    "\n",
    "# 학습을 위한 설정값들을 정의\n",
    "learning_rate = 0.01\n",
    "num_epochs = 30     # 학습횟수\n",
    "batch_size = 256    # 배치개수\n",
    "display_step = 1    # 손실함수 출력 주기\n",
    "hidden1_size = 256\n",
    "hidden2_size = 256\n",
    "\n",
    "# 입력값과 출력값을 받기 위한 플레이스홀더를 정의\n",
    "x = tf.placeholder(tf.float32, shape=[None, 784])\n",
    "y = tf.placeholder(tf.float32, shape=[None, 10])"
   ]
  },
  {
   "cell_type": "code",
   "execution_count": 12,
   "metadata": {},
   "outputs": [],
   "source": [
    "# ANN 모델을 정의\n",
    "def build_ANN(x):\n",
    "    W1 = tf.Variable(tf.random_normal(shape=[784, hidden1_size]))\n",
    "    b1 = tf.Variable(tf.random_normal(shape=[hidden1_size]))\n",
    "    H1_output = tf.nn.relu(tf.matmul(x,W1) + b1) # shape (42000,256)\n",
    "    W2 = tf.Variable(tf.random_normal(shape=[hidden1_size, hidden2_size]))\n",
    "    b2 = tf.Variable(tf.random_normal(shape=[hidden2_size]))\n",
    "    H2_output = tf.nn.relu(tf.matmul(H1_output,W2) + b2) # shape (42000,256)\n",
    "    W_output = tf.Variable(tf.random_normal(shape=[hidden2_size, 10]))\n",
    "    b_output = tf.Variable(tf.random_normal(shape=[10]))\n",
    "    logits = tf.matmul(H2_output,W_output) + b_output # shape (42000,10)\n",
    "\n",
    "    return logits"
   ]
  },
  {
   "cell_type": "code",
   "execution_count": 13,
   "metadata": {},
   "outputs": [],
   "source": [
    "# ANN 모델을 선언\n",
    "predicted_value = build_ANN(x)"
   ]
  },
  {
   "cell_type": "code",
   "execution_count": 14,
   "metadata": {},
   "outputs": [],
   "source": [
    "# 손실함수와 옵티마이저를 정의\n",
    "# tf.nn.softmax_cross_entropy_with_logits 함수를 이용하여 \n",
    "# 활성함수를 적용하지 않은 output layer의 결과값(logits)에 softmax 함수를 적용\n",
    "loss = tf.reduce_mean(tf.nn.softmax_cross_entropy_with_logits_v2(logits=predicted_value, labels=y))\n",
    "train_step = tf.train.AdamOptimizer(learning_rate=learning_rate).minimize(loss)"
   ]
  },
  {
   "cell_type": "code",
   "execution_count": 15,
   "metadata": {},
   "outputs": [
    {
     "name": "stdout",
     "output_type": "stream",
     "text": [
      "반복(Epoch): 1, 손실 함수(Loss): 23498.151762\n",
      "반복(Epoch): 2, 손실 함수(Loss): 3760.659963\n",
      "반복(Epoch): 3, 손실 함수(Loss): 1878.512662\n",
      "반복(Epoch): 4, 손실 함수(Loss): 1227.919278\n",
      "반복(Epoch): 5, 손실 함수(Loss): 772.338254\n",
      "반복(Epoch): 6, 손실 함수(Loss): 486.392584\n",
      "반복(Epoch): 7, 손실 함수(Loss): 489.420643\n",
      "반복(Epoch): 8, 손실 함수(Loss): 344.089695\n",
      "반복(Epoch): 9, 손실 함수(Loss): 286.061593\n",
      "반복(Epoch): 10, 손실 함수(Loss): 313.062903\n",
      "반복(Epoch): 11, 손실 함수(Loss): 301.218188\n",
      "반복(Epoch): 12, 손실 함수(Loss): 292.806078\n",
      "반복(Epoch): 13, 손실 함수(Loss): 284.278972\n",
      "반복(Epoch): 14, 손실 함수(Loss): 252.630723\n",
      "반복(Epoch): 15, 손실 함수(Loss): 287.388537\n",
      "반복(Epoch): 16, 손실 함수(Loss): 239.432984\n",
      "반복(Epoch): 17, 손실 함수(Loss): 268.742984\n",
      "반복(Epoch): 18, 손실 함수(Loss): 258.925054\n",
      "반복(Epoch): 19, 손실 함수(Loss): 267.084681\n",
      "반복(Epoch): 20, 손실 함수(Loss): 302.148739\n",
      "반복(Epoch): 21, 손실 함수(Loss): 232.690176\n",
      "반복(Epoch): 22, 손실 함수(Loss): 210.625086\n",
      "반복(Epoch): 23, 손실 함수(Loss): 272.683904\n",
      "반복(Epoch): 24, 손실 함수(Loss): 263.124161\n",
      "반복(Epoch): 25, 손실 함수(Loss): 238.224241\n",
      "반복(Epoch): 26, 손실 함수(Loss): 232.064056\n",
      "반복(Epoch): 27, 손실 함수(Loss): 278.457614\n",
      "반복(Epoch): 28, 손실 함수(Loss): 272.988511\n",
      "반복(Epoch): 29, 손실 함수(Loss): 228.360157\n",
      "반복(Epoch): 30, 손실 함수(Loss): 213.845210\n"
     ]
    }
   ],
   "source": [
    "# 세션을 열고 변수들에 초기값을 할당\n",
    "sess = tf.Session()\n",
    "sess.run(tf.global_variables_initializer())\n",
    "\n",
    "# 지정된 횟수만큼 최적화를 수행\n",
    "for epoch in range(num_epochs): #num_epochs = 30\n",
    "    average_loss = 0\n",
    "    # 전체 배치를 불러옵니다.\n",
    "    total_batch = int(len(train_input)/batch_size)\n",
    "    # total_batch = int(42000/256) = 164\n",
    "    # 모든 배치들에 대해서 최적화를 수행합니다.\n",
    "    for i in range(total_batch):\n",
    "        start = ((i+1) * batch_size) - batch_size\n",
    "        # 데이터를 분할하기 위해 start라는 변수를 선언\n",
    "        # i는 0에서 164까지 변함\n",
    "        # i = 0일 때 start에 저장되는 값은 (0+1)*256)-256이므로 0이 저장\n",
    "        end = ((i+1) * batch_size)\n",
    "        # 데이터를 분할하기 위해 end라는 변수를 선언\n",
    "        # i = 0일 때 emd에 저장되는 값은 (0+1)*256)이므로 256이 저장\n",
    "        batch_xs = train_input[start:end]\n",
    "        # batch_xs : train 데이터의 input을 저장하는 변수\n",
    "        # train_input[start:end]는 train_input[0:256]과 같음\n",
    "        # 즉, train_inpuf에서 0~256에 위치하는 데이터를 불러서 batch_xs에 저장\n",
    "        batch_ys = train_label[start:end]\n",
    "        # batch_ys = train 데이터의 label을 저장하는 변수\n",
    "        # train_label[start:end]는 train_label[0:256]과 같음\n",
    "        # train_label에서 0~100에 위치하는 데이터를 불러서 batch_ys에 저장\n",
    "        feed_dict = {x: batch_xs, y: batch_ys}\n",
    "        # feed dictionary를 선언\n",
    "        # x는 input data에 대한 placeholder이며, \n",
    "        # y는 output data 즉, label를 담는 placeholder임\n",
    "        # x에 batch_xs를 담고, y에 batch_ys를 담음 \n",
    "        # 옵티마이저를 실행해서 파라마터들을 업데이트\n",
    "        _, current_loss = sess.run([train_step, loss], feed_dict=feed_dict)\n",
    "        # 평균 손실을 측정\n",
    "        average_loss += current_loss / total_batch\n",
    "    # 지정된 epoch마다 학습결과를 출력\n",
    "    if epoch % display_step == 0:\n",
    "        print(\"반복(Epoch): %d, 손실 함수(Loss): %f\" % ((epoch+1), average_loss))"
   ]
  },
  {
   "cell_type": "code",
   "execution_count": 16,
   "metadata": {},
   "outputs": [
    {
     "name": "stdout",
     "output_type": "stream",
     "text": [
      "Accuracy: 0.98\n"
     ]
    }
   ],
   "source": [
    "# Test model and check accuracy\n",
    "correct_prediction = tf.equal(tf.argmax(predicted_value, 1), tf.argmax(y, 1))\n",
    "# 전체 test 데이터 중 실제로 맞춘 개수가 몇개인지 측정한 다음 correct_prediction에 저장\n",
    "# tf.argmax : 원소 중에서 가장 큰 값의 인덱스를 반환. \n",
    "# 즉, predicted_value에서는 가중치 업데이트 후 가장 큰 값을 갖는 인덱스를 \n",
    "# y에서는 0과1 중 1인 것을 찾아서 라벨을 매기기 위함\n",
    "# tf.equal : 예측 값과 정답이 같으면 True 아니면 False값이 반환\n",
    "accuracy = tf.reduce_mean(tf.cast(correct_prediction, \"float\"))\n",
    "# tf.cast : correct_prediction을 float형으로 변환. True = 1, False = 0\n",
    "# 변환한 값의 평균을 구하여 accuracy에 저장. 200개 중 몇 개 맞췄는지\n",
    "print('Accuracy:', sess.run(accuracy, feed_dict={x: test_input, y: test_label}))"
   ]
  },
  {
   "cell_type": "markdown",
   "metadata": {},
   "source": [
    "# 내가 그린 데이터로 연습해보기(myMNIST)"
   ]
  },
  {
   "cell_type": "code",
   "execution_count": 17,
   "metadata": {},
   "outputs": [
    {
     "data": {
      "text/plain": [
       "['1.png',\n",
       " '2.png',\n",
       " '3.png',\n",
       " '4.png',\n",
       " '5.png',\n",
       " '6.png',\n",
       " '7.png',\n",
       " '7_2.png',\n",
       " '8.png',\n",
       " '9.png']"
      ]
     },
     "execution_count": 17,
     "metadata": {},
     "output_type": "execute_result"
    }
   ],
   "source": [
    "# train data path\n",
    "import os\n",
    "path = 'D:/myMNIST/'\n",
    "myimg_list = os.listdir(path)\n",
    "myimg_list"
   ]
  },
  {
   "cell_type": "code",
   "execution_count": 18,
   "metadata": {},
   "outputs": [],
   "source": [
    "import cv2\n",
    "mytrain_input = []\n",
    "for img in myimg_list:\n",
    "    img_path = os.path.join(path, img)\n",
    "    img = cv2.imread(img_path, cv2.IMREAD_GRAYSCALE)\n",
    "    # cv2.imread: paht경로에 있는 이미지를 흑백으로 불러옴\n",
    "    mytrain_input.append([np.array(img)])"
   ]
  },
  {
   "cell_type": "code",
   "execution_count": 19,
   "metadata": {},
   "outputs": [
    {
     "data": {
      "text/plain": [
       "<matplotlib.image.AxesImage at 0x19d4572feb8>"
      ]
     },
     "execution_count": 19,
     "metadata": {},
     "output_type": "execute_result"
    },
    {
     "data": {
      "image/png": "[encoded data removed]",
      "text/plain": [
       "<Figure size 432x288 with 1 Axes>"
      ]
     },
     "metadata": {
      "needs_background": "light"
     },
     "output_type": "display_data"
    }
   ],
   "source": [
    "# 마지막 이미지 시각화\n",
    "%matplotlib inline\n",
    "from matplotlib import pyplot as plt\n",
    "plt.imshow(img, cmap='gray')"
   ]
  },
  {
   "cell_type": "code",
   "execution_count": 20,
   "metadata": {},
   "outputs": [
    {
     "name": "stdout",
     "output_type": "stream",
     "text": [
      "(10, 784)\n"
     ]
    }
   ],
   "source": [
    "mytrain_input = np.reshape(mytrain_input, (-1, 784))\n",
    "mytrain_input = mytrain_input.astype(np.float32)\n",
    "print(mytrain_input.shape)"
   ]
  },
  {
   "cell_type": "code",
   "execution_count": 21,
   "metadata": {},
   "outputs": [
    {
     "data": {
      "text/plain": [
       "array([6, 2, 5, 4, 5, 6, 7, 7, 8, 9], dtype=int64)"
      ]
     },
     "execution_count": 21,
     "metadata": {},
     "output_type": "execute_result"
    }
   ],
   "source": [
    "correct_prediction = tf.argmax(predicted_value, 1)\n",
    "sess.run(correct_prediction, feed_dict={x: mytrain_input})"
   ]
  },
  {
   "cell_type": "code",
   "execution_count": 22,
   "metadata": {},
   "outputs": [
    {
     "name": "stderr",
     "output_type": "stream",
     "text": [
      "C:\\Users\\tldud\\.conda\\envs\\tldud\\lib\\site-packages\\ipykernel_launcher.py:5: UserWarning: Matplotlib is currently using module://ipykernel.pylab.backend_inline, which is a non-GUI backend, so cannot show the figure.\n",
      "  \"\"\"\n"
     ]
    },
    {
     "data": {
      "image/png": "[encoded data removed]",
      "text/plain": [
       "<Figure size 720x72 with 10 Axes>"
      ]
     },
     "metadata": {
      "needs_background": "light"
     },
     "output_type": "display_data"
    }
   ],
   "source": [
    "# 원본 MNIST 데이터와 Reconstruction 결과를 비교\n",
    "f, a = plt.subplots(1, 10, figsize=(10, 1))\n",
    "for i in range(len(mytrain_input)):\n",
    "    a[i].imshow(np.reshape(mytrain_input[i], (28, 28)), cmap='gray')\n",
    "f.show()"
   ]
  },
  {
   "cell_type": "markdown",
   "metadata": {},
   "source": [
    "### 정확도= 0.8 "
   ]
  },
  {
   "cell_type": "code",
   "execution_count": null,
   "metadata": {},
   "outputs": [],
   "source": []
  }
 ],
 "metadata": {
  "kernelspec": {
   "display_name": "Python 3",
   "language": "python",
   "name": "python3"
  },
  "language_info": {
   "codemirror_mode": {
    "name": "ipython",
    "version": 3
   },
   "file_extension": ".py",
   "mimetype": "text/x-python",
   "name": "python",
   "nbconvert_exporter": "python",
   "pygments_lexer": "ipython3",
   "version": "3.6.8"
  }
 },
 "nbformat": 4,
 "nbformat_minor": 2
}
