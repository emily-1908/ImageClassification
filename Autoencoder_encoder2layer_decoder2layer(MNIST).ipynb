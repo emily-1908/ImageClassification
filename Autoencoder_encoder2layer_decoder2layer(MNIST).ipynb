{
 "cells": [
  {
   "cell_type": "markdown",
   "metadata": {},
   "source": [
    "# train data vectorizing & labeling"
   ]
  },
  {
   "cell_type": "code",
   "execution_count": 1,
   "metadata": {},
   "outputs": [
    {
     "data": {
      "text/plain": [
       "array(['0_zero', '1_one', '2_two', '3_three', '4_four', '5_five', '6_six',\n",
       "       '7_seven', '8_eight', '9_nine'], dtype='<U7')"
      ]
     },
     "execution_count": 1,
     "metadata": {},
     "output_type": "execute_result"
    }
   ],
   "source": [
    "# train data path\n",
    "import os\n",
    "import numpy as np\n",
    "from numpy import array\n",
    "TRAIN_DIR = 'D:/MNIST/trainingSet/'\n",
    "train_folder_list = array(os.listdir(TRAIN_DIR))\n",
    "train_folder_list"
   ]
  },
  {
   "cell_type": "code",
   "execution_count": 2,
   "metadata": {},
   "outputs": [
    {
     "data": {
      "text/plain": [
       "array([0, 1, 2, 3, 4, 5, 6, 7, 8, 9], dtype=int64)"
      ]
     },
     "execution_count": 2,
     "metadata": {},
     "output_type": "execute_result"
    }
   ],
   "source": [
    "# path 라벨링\n",
    "from sklearn.preprocessing import LabelEncoder\n",
    "label_encoder = LabelEncoder()  # LabelEncoder Class 호출\n",
    "integer_encoded = label_encoder.fit_transform(train_folder_list)\n",
    "integer_encoded"
   ]
  },
  {
   "cell_type": "code",
   "execution_count": 3,
   "metadata": {},
   "outputs": [
    {
     "name": "stdout",
     "output_type": "stream",
     "text": [
      "integer_encoded:\n",
      " [[0]\n",
      " [1]\n",
      " [2]\n",
      " [3]\n",
      " [4]\n",
      " [5]\n",
      " [6]\n",
      " [7]\n",
      " [8]\n",
      " [9]]\n",
      "onehot_encoded:\n",
      " [[1. 0. 0. 0. 0. 0. 0. 0. 0. 0.]\n",
      " [0. 1. 0. 0. 0. 0. 0. 0. 0. 0.]\n",
      " [0. 0. 1. 0. 0. 0. 0. 0. 0. 0.]\n",
      " [0. 0. 0. 1. 0. 0. 0. 0. 0. 0.]\n",
      " [0. 0. 0. 0. 1. 0. 0. 0. 0. 0.]\n",
      " [0. 0. 0. 0. 0. 1. 0. 0. 0. 0.]\n",
      " [0. 0. 0. 0. 0. 0. 1. 0. 0. 0.]\n",
      " [0. 0. 0. 0. 0. 0. 0. 1. 0. 0.]\n",
      " [0. 0. 0. 0. 0. 0. 0. 0. 1. 0.]\n",
      " [0. 0. 0. 0. 0. 0. 0. 0. 0. 1.]]\n"
     ]
    }
   ],
   "source": [
    "# 라벨링 벡터화\n",
    "from sklearn.preprocessing import OneHotEncoder\n",
    "onehot_encoder = OneHotEncoder(categories='auto', sparse=False) \n",
    "integer_encoded = integer_encoded.reshape(len(integer_encoded), 1)\n",
    "onehot_encoded = onehot_encoder.fit_transform(integer_encoded)\n",
    "print('integer_encoded:\\n', integer_encoded)\n",
    "print('onehot_encoded:\\n', onehot_encoded)"
   ]
  },
  {
   "cell_type": "code",
   "execution_count": 4,
   "metadata": {},
   "outputs": [
    {
     "data": {
      "text/plain": [
       "numpy.ndarray"
      ]
     },
     "execution_count": 4,
     "metadata": {},
     "output_type": "execute_result"
    }
   ],
   "source": [
    "type(onehot_encoded)"
   ]
  },
  {
   "cell_type": "code",
   "execution_count": 5,
   "metadata": {},
   "outputs": [],
   "source": [
    "# 이미지를 불러와서 흑백으로 벡터화 및 라벨링\n",
    "import cv2\n",
    "train_input = []\n",
    "train_label = []\n",
    "for index in range(len(train_folder_list)):\n",
    "    path = os.path.join(TRAIN_DIR, train_folder_list[index])\n",
    "    path = path + '/'\n",
    "    img_list = os.listdir(path)\n",
    "    for img in img_list:\n",
    "        img_path = os.path.join(path, img)\n",
    "        img = cv2.imread(img_path, cv2.IMREAD_GRAYSCALE)\n",
    "        # cv2.imread: paht경로에 있는 이미지를 흑백으로 불러옴\n",
    "        train_input.append([np.array(img)])\n",
    "        train_label.append([np.array(onehot_encoded[index])])"
   ]
  },
  {
   "cell_type": "code",
   "execution_count": 6,
   "metadata": {},
   "outputs": [
    {
     "data": {
      "text/plain": [
       "<matplotlib.image.AxesImage at 0x25ad52b4f60>"
      ]
     },
     "execution_count": 6,
     "metadata": {},
     "output_type": "execute_result"
    },
    {
     "data": {
      "image/png": "[encoded data removed]",
      "text/plain": [
       "<Figure size 432x288 with 1 Axes>"
      ]
     },
     "metadata": {
      "needs_background": "light"
     },
     "output_type": "display_data"
    }
   ],
   "source": [
    "# 마지막 이미지 시각화\n",
    "%matplotlib inline\n",
    "from matplotlib import pyplot as plt\n",
    "plt.imshow(img, cmap='gray')"
   ]
  },
  {
   "cell_type": "code",
   "execution_count": 7,
   "metadata": {},
   "outputs": [
    {
     "data": {
      "text/plain": [
       "42000"
      ]
     },
     "execution_count": 7,
     "metadata": {},
     "output_type": "execute_result"
    }
   ],
   "source": [
    "len(train_input) #train_input은 [[img],[img],...,[img]] 이런 형태"
   ]
  },
  {
   "cell_type": "markdown",
   "metadata": {},
   "source": [
    "### list형태를 np.array형태(42000,784)로 reshape"
   ]
  },
  {
   "cell_type": "code",
   "execution_count": 8,
   "metadata": {},
   "outputs": [
    {
     "name": "stdout",
     "output_type": "stream",
     "text": [
      "train_input.shape:  (42000, 784)\n",
      "train_label.shape:  (42000, 10)\n"
     ]
    }
   ],
   "source": [
    "train_input = np.reshape(train_input, (-1, 784))\n",
    "# 이때 -1은 정확한 개수를 모를때 사용. -1대신 42000 넣어도 상관x\n",
    "train_label = np.reshape(train_label, (-1, 10))\n",
    "train_input = np.array(train_input).astype(np.float32)\n",
    "train_label = np.array(train_label).astype(np.float32)\n",
    "\n",
    "#데이터 섞기\n",
    "tmp = [[x,y] for x, y in zip(train_input, train_label)]\n",
    "np.random.shuffle(tmp)\n",
    "train_input = np.array([n[0] for n in tmp])\n",
    "train_label = np.array([n[1] for n in tmp])\n",
    "\n",
    "np.save(\"train_data.npy\", train_input)\n",
    "np.save(\"train_label.npy\", train_label)\n",
    "print('train_input.shape: ', train_input.shape)\n",
    "print('train_label.shape: ', train_label.shape)"
   ]
  },
  {
   "cell_type": "markdown",
   "metadata": {},
   "source": [
    "# test data vectorizing & labeling"
   ]
  },
  {
   "cell_type": "code",
   "execution_count": 9,
   "metadata": {},
   "outputs": [],
   "source": [
    "TEST_DIR = 'D:/MNIST/testSet/'\n",
    "test_folder_list = array(os.listdir(TEST_DIR))\n",
    " \n",
    "test_input = []\n",
    "test_label = []\n",
    " \n",
    "label_encoder = LabelEncoder()\n",
    "integer_encoded = label_encoder.fit_transform(test_folder_list)\n",
    " \n",
    "onehot_encoder = OneHotEncoder(categories='auto', sparse=False) \n",
    "integer_encoded = integer_encoded.reshape(len(integer_encoded), 1)\n",
    "onehot_encoded = onehot_encoder.fit_transform(integer_encoded)\n",
    " \n",
    "for index in range(len(test_folder_list)):\n",
    "    path = os.path.join(TEST_DIR, test_folder_list[index])\n",
    "    path = path + '/'\n",
    "    img_list = os.listdir(path)\n",
    "    for img in img_list:\n",
    "        img_path = os.path.join(path, img)\n",
    "        img = cv2.imread(img_path, cv2.IMREAD_GRAYSCALE)\n",
    "        test_input.append([np.array(img)])\n",
    "        test_label.append([np.array(onehot_encoded[index])])\n",
    " \n",
    "test_input = np.reshape(test_input, (-1, 784))\n",
    "test_label = np.reshape(test_label, (-1, 10))\n",
    "test_input = np.array(test_input).astype(np.float32)\n",
    "test_label = np.array(test_label).astype(np.float32)\n",
    "\n",
    "#데이터 섞기\n",
    "tmp = [[x,y] for x, y in zip(test_input, test_label)]\n",
    "np.random.shuffle(tmp)\n",
    "test_input = np.array([n[0] for n in tmp])\n",
    "test_label = np.array([n[1] for n in tmp])\n",
    "\n",
    "np.save(\"test_input.npy\",test_input)\n",
    "np.save(\"test_label.npy\",test_label)"
   ]
  },
  {
   "cell_type": "markdown",
   "metadata": {},
   "source": [
    "# Autoencoder와 Softmax 분류기를 이용한 MNIST 분류기 구현"
   ]
  },
  {
   "cell_type": "code",
   "execution_count": 10,
   "metadata": {},
   "outputs": [],
   "source": [
    "import tensorflow as tf\n",
    "\n",
    "# 학습에 필요한 설정값들을 정의  \n",
    "learning_rate_RMSProp = 0.02\n",
    "learning_rate_GradientDescent = 0.01\n",
    "num_epochs = 100         # 반복횟수\n",
    "batch_size = 256          \n",
    "display_step = 5         # 몇 Step마다 loss를 출력할지 결정\n",
    "input_size = 784\n",
    "hidden1_size = 128       # 첫번째 히든레이어의 노드 개수 \n",
    "hidden2_size = 64        # 두번째 히든레이어의 노드 개수 \n",
    "\n",
    "# 입력값과 출력값을 받기 위한 플레이스홀더를 정의\n",
    "x = tf.placeholder(tf.float32, shape=[None, input_size])   \n",
    "y = tf.placeholder(tf.float32, shape=[None, 10])         "
   ]
  },
  {
   "cell_type": "code",
   "execution_count": 11,
   "metadata": {},
   "outputs": [],
   "source": [
    "# Autoencoder 구조를 정의\n",
    "def build_autoencoder(x):\n",
    "    # 인코딩(Encoding) - 784 -> 128 -> 64\n",
    "    Wh_1 = tf.Variable(tf.random_normal([input_size, hidden1_size]))   \n",
    "    bh_1 = tf.Variable(tf.random_normal([hidden1_size]))\n",
    "    H1_output = tf.nn.sigmoid(tf.matmul(x, Wh_1) +bh_1)\n",
    "    Wh_2 = tf.Variable(tf.random_normal([hidden1_size, hidden2_size]))\n",
    "    bh_2 = tf.Variable(tf.random_normal([hidden2_size]))\n",
    "    H2_output = tf.nn.sigmoid(tf.matmul(H1_output, Wh_2) +bh_2)\n",
    "    # 디코딩(Decoding) 64 -> 128 -> 784\n",
    "    Wh_3 = tf.Variable(tf.random_normal([hidden2_size, hidden1_size]))\n",
    "    bh_3 = tf.Variable(tf.random_normal([hidden1_size]))\n",
    "    H3_output = tf.nn.sigmoid(tf.matmul(H2_output, Wh_3) +bh_3)\n",
    "    Wo = tf.Variable(tf.random_normal([hidden1_size, input_size]))\n",
    "    bo = tf.Variable(tf.random_normal([input_size]))\n",
    "    X_reconstructed = tf.nn.sigmoid(tf.matmul(H3_output,Wo) + bo)\n",
    "  \n",
    "    return X_reconstructed, H2_output"
   ]
  },
  {
   "cell_type": "code",
   "execution_count": 12,
   "metadata": {},
   "outputs": [],
   "source": [
    "# Softmax 분류기를 정의\n",
    "def build_softmax_classifier(x):\n",
    "    # 원본 MNIST 이미지(784) 대신 오토인코더의 압축된 특징(64)을 입력값으로 받음\n",
    "    W_softmax = tf.Variable(tf.zeros([hidden2_size, 10])) \n",
    "    b_softmax = tf.Variable(tf.zeros([10]))\n",
    "    y_pred = tf.nn.softmax(tf.matmul(x, W_softmax) + b_softmax) \n",
    "\n",
    "    return y_pred"
   ]
  },
  {
   "cell_type": "code",
   "execution_count": 13,
   "metadata": {},
   "outputs": [],
   "source": [
    "# Autoencoder를 선언\n",
    "# y_pred : Autoencoder의 Reconstruction 결과(784) \n",
    "# extracted_features : 압축된 Features(64)\n",
    "y_pred, extracted_features = build_autoencoder(x) \n",
    "# 타겟데이터는 인풋데이터와 같음\n",
    "y_true = x\n",
    "\n",
    "# Softmax 분류기를 선언 \n",
    "# 입력으로 Autoencoder의 압축된 특징을 삽입\n",
    "y_pred_softmax = build_softmax_classifier(extracted_features)"
   ]
  },
  {
   "cell_type": "code",
   "execution_count": 14,
   "metadata": {},
   "outputs": [
    {
     "name": "stderr",
     "output_type": "stream",
     "text": [
      "WARNING: Logging before flag parsing goes to stderr.\n",
      "W1013 15:32:50.478839 32120 deprecation.py:323] From C:\\Users\\tldud\\.conda\\envs\\tldud\\lib\\site-packages\\tensorflow\\python\\ops\\math_grad.py:1205: add_dispatch_support.<locals>.wrapper (from tensorflow.python.ops.array_ops) is deprecated and will be removed in a future version.\n",
      "Instructions for updating:\n",
      "Use tf.where in 2.0, which has the same broadcast rule as np.where\n",
      "W1013 15:32:50.534689 32120 deprecation.py:506] From C:\\Users\\tldud\\.conda\\envs\\tldud\\lib\\site-packages\\tensorflow\\python\\training\\rmsprop.py:119: calling Ones.__init__ (from tensorflow.python.ops.init_ops) with dtype is deprecated and will be removed in a future version.\n",
      "Instructions for updating:\n",
      "Call initializer instance with the dtype argument instead of passing it to the constructor\n"
     ]
    }
   ],
   "source": [
    "# 1. Pre-Training(사전학습) : MNIST 데이터 재구축을 목적으로하는 손실함수와 옵티마이저를 정의\n",
    "pretraining_loss = tf.reduce_mean(tf.pow(y_true - y_pred, 2)) # MSE 손실 함수\n",
    "pretraining_train_step = tf.train.RMSPropOptimizer(learning_rate_RMSProp).minimize(pretraining_loss)\n",
    "\n",
    "# 2. Fine-Tuning(전이학습) :  MNIST 데이터 분류를 목적으로하는 손실함수와 옵티마이저를 정의\n",
    "finetuning_loss = tf.reduce_mean(-tf.reduce_sum(y * tf.log(y_pred_softmax), reduction_indices=[1])) # cross-entropy loss 함수\n",
    "finetuning_train_step = tf.train.GradientDescentOptimizer(learning_rate_GradientDescent).minimize(finetuning_loss)"
   ]
  },
  {
   "cell_type": "code",
   "execution_count": 15,
   "metadata": {},
   "outputs": [
    {
     "name": "stdout",
     "output_type": "stream",
     "text": [
      "반복(Epoch): 5, Pre-Training 손실 함수(pretraining_loss): 0.368925\n",
      "반복(Epoch): 10, Pre-Training 손실 함수(pretraining_loss): 0.084791\n",
      "반복(Epoch): 15, Pre-Training 손실 함수(pretraining_loss): 0.068866\n",
      "반복(Epoch): 20, Pre-Training 손실 함수(pretraining_loss): 0.055227\n",
      "반복(Epoch): 25, Pre-Training 손실 함수(pretraining_loss): 0.049867\n",
      "반복(Epoch): 30, Pre-Training 손실 함수(pretraining_loss): 0.044509\n",
      "반복(Epoch): 35, Pre-Training 손실 함수(pretraining_loss): 0.040615\n",
      "반복(Epoch): 40, Pre-Training 손실 함수(pretraining_loss): 0.037530\n",
      "반복(Epoch): 45, Pre-Training 손실 함수(pretraining_loss): 0.036124\n",
      "반복(Epoch): 50, Pre-Training 손실 함수(pretraining_loss): 0.034098\n",
      "반복(Epoch): 55, Pre-Training 손실 함수(pretraining_loss): 0.033208\n",
      "반복(Epoch): 60, Pre-Training 손실 함수(pretraining_loss): 0.031424\n",
      "반복(Epoch): 65, Pre-Training 손실 함수(pretraining_loss): 0.027504\n",
      "반복(Epoch): 70, Pre-Training 손실 함수(pretraining_loss): 0.026810\n",
      "반복(Epoch): 75, Pre-Training 손실 함수(pretraining_loss): 0.026182\n",
      "반복(Epoch): 80, Pre-Training 손실 함수(pretraining_loss): 0.025049\n",
      "반복(Epoch): 85, Pre-Training 손실 함수(pretraining_loss): 0.024564\n",
      "반복(Epoch): 90, Pre-Training 손실 함수(pretraining_loss): 0.024060\n",
      "반복(Epoch): 95, Pre-Training 손실 함수(pretraining_loss): 0.023631\n",
      "반복(Epoch): 100, Pre-Training 손실 함수(pretraining_loss): 0.023292\n",
      "Step 1 : MNIST 데이터 재구축을 위한 오토인코더 최적화 완료(Pre-Training)\n"
     ]
    }
   ],
   "source": [
    "# 세션을 열고 변수들에 초기값을 할당\n",
    "sess = tf.Session()\n",
    "sess.run(tf.global_variables_initializer())\n",
    "\n",
    "# 전체 배치 개수를 불러옴\n",
    "total_batch = int(len(train_input)/batch_size) # total_batch = int(42000/256) = 164\n",
    "\n",
    "# Step 1: MNIST 데이터 재구축을 위한 오토인코더 최적화(Pre-Training)를 수행\n",
    "for epoch in range(num_epochs): #num_epochs = 30\n",
    "    average_loss = 0\n",
    "    # 모든 배치들에 대해서 최적화를 수행\n",
    "    for i in range(total_batch):\n",
    "        start = ((i+1) * batch_size) - batch_size\n",
    "        # 데이터를 분할하기 위해 start라는 변수를 선언\n",
    "        # i는 0에서 164까지 변함\n",
    "        # i = 0일 때 start에 저장되는 값은 (0+1)*256)-256이므로 0이 저장\n",
    "        end = ((i+1) * batch_size)\n",
    "        # 데이터를 분할하기 위해 end라는 변수를 선언\n",
    "        # i = 0일 때 emd에 저장되는 값은 (0+1)*256)이므로 256이 저장\n",
    "        batch_xs = train_input[start:end] / 255\n",
    "        # batch_xs : train 데이터의 input을 저장하는 변수\n",
    "        # train_input[start:end]는 train_input[0:256]과 같음\n",
    "        # 즉, train_inpuf에서 0~256에 위치하는 데이터를 불러서 batch_xs에 저장\n",
    "        feed_dict = {x: batch_xs}\n",
    "        # feed dictionary를 선언\n",
    "        # x는 input data에 대한 placeholder\n",
    "        _, pretraining_loss_print = sess.run([pretraining_train_step, pretraining_loss], feed_dict=feed_dict)\n",
    "        # 옵티마이저를 실행해서 파라마터들을 업데이트\n",
    "        average_loss += pretraining_loss_print / total_batch\n",
    "        # 평균 손실을 측정\n",
    "    # 지정된 epoch마다 학습결과를 출력\n",
    "    if epoch % display_step == 0: # display_step = 5\n",
    "        print(\"반복(Epoch): %d, Pre-Training 손실 함수(pretraining_loss): %f\" % ((epoch+display_step), average_loss))\n",
    "print(\"Step 1 : MNIST 데이터 재구축을 위한 오토인코더 최적화 완료(Pre-Training)\")"
   ]
  },
  {
   "cell_type": "code",
   "execution_count": 16,
   "metadata": {},
   "outputs": [
    {
     "data": {
      "text/plain": [
       "<matplotlib.image.AxesImage at 0x25ada8af4e0>"
      ]
     },
     "execution_count": 16,
     "metadata": {},
     "output_type": "execute_result"
    },
    {
     "data": {
      "image/png": "[encoded data removed]",
      "text/plain": [
       "<Figure size 432x288 with 1 Axes>"
      ]
     },
     "metadata": {
      "needs_background": "light"
     },
     "output_type": "display_data"
    }
   ],
   "source": [
    "# 마지막 이미지 시각화\n",
    "%matplotlib inline\n",
    "from matplotlib import pyplot as plt\n",
    "plt.imshow(np.reshape(batch_xs[0], (28, 28)), cmap='gray')"
   ]
  },
  {
   "cell_type": "code",
   "execution_count": 17,
   "metadata": {},
   "outputs": [
    {
     "name": "stdout",
     "output_type": "stream",
     "text": [
      "반복(Epoch): 5, Fine-tuning 손실 함수(finetuning_loss): 2.203775\n",
      "반복(Epoch): 10, Fine-tuning 손실 함수(finetuning_loss): 1.489438\n",
      "반복(Epoch): 15, Fine-tuning 손실 함수(finetuning_loss): 1.116228\n",
      "반복(Epoch): 20, Fine-tuning 손실 함수(finetuning_loss): 0.912886\n",
      "반복(Epoch): 25, Fine-tuning 손실 함수(finetuning_loss): 0.791080\n",
      "반복(Epoch): 30, Fine-tuning 손실 함수(finetuning_loss): 0.711124\n",
      "반복(Epoch): 35, Fine-tuning 손실 함수(finetuning_loss): 0.654678\n",
      "반복(Epoch): 40, Fine-tuning 손실 함수(finetuning_loss): 0.612553\n",
      "반복(Epoch): 45, Fine-tuning 손실 함수(finetuning_loss): 0.579751\n",
      "반복(Epoch): 50, Fine-tuning 손실 함수(finetuning_loss): 0.553353\n",
      "반복(Epoch): 55, Fine-tuning 손실 함수(finetuning_loss): 0.531547\n",
      "반복(Epoch): 60, Fine-tuning 손실 함수(finetuning_loss): 0.513152\n",
      "반복(Epoch): 65, Fine-tuning 손실 함수(finetuning_loss): 0.497363\n",
      "반복(Epoch): 70, Fine-tuning 손실 함수(finetuning_loss): 0.483616\n",
      "반복(Epoch): 75, Fine-tuning 손실 함수(finetuning_loss): 0.471498\n",
      "반복(Epoch): 80, Fine-tuning 손실 함수(finetuning_loss): 0.460706\n",
      "반복(Epoch): 85, Fine-tuning 손실 함수(finetuning_loss): 0.451006\n",
      "반복(Epoch): 90, Fine-tuning 손실 함수(finetuning_loss): 0.442220\n",
      "반복(Epoch): 95, Fine-tuning 손실 함수(finetuning_loss): 0.434206\n",
      "반복(Epoch): 100, Fine-tuning 손실 함수(finetuning_loss): 0.426851\n",
      "반복(Epoch): 105, Fine-tuning 손실 함수(finetuning_loss): 0.420063\n",
      "반복(Epoch): 110, Fine-tuning 손실 함수(finetuning_loss): 0.413769\n",
      "반복(Epoch): 115, Fine-tuning 손실 함수(finetuning_loss): 0.407905\n",
      "반복(Epoch): 120, Fine-tuning 손실 함수(finetuning_loss): 0.402422\n",
      "반복(Epoch): 125, Fine-tuning 손실 함수(finetuning_loss): 0.397275\n",
      "반복(Epoch): 130, Fine-tuning 손실 함수(finetuning_loss): 0.392427\n",
      "반복(Epoch): 135, Fine-tuning 손실 함수(finetuning_loss): 0.387848\n",
      "반복(Epoch): 140, Fine-tuning 손실 함수(finetuning_loss): 0.383510\n",
      "반복(Epoch): 145, Fine-tuning 손실 함수(finetuning_loss): 0.379391\n",
      "반복(Epoch): 150, Fine-tuning 손실 함수(finetuning_loss): 0.375469\n",
      "반복(Epoch): 155, Fine-tuning 손실 함수(finetuning_loss): 0.371727\n",
      "반복(Epoch): 160, Fine-tuning 손실 함수(finetuning_loss): 0.368150\n",
      "반복(Epoch): 165, Fine-tuning 손실 함수(finetuning_loss): 0.364723\n",
      "반복(Epoch): 170, Fine-tuning 손실 함수(finetuning_loss): 0.361435\n",
      "반복(Epoch): 175, Fine-tuning 손실 함수(finetuning_loss): 0.358275\n",
      "반복(Epoch): 180, Fine-tuning 손실 함수(finetuning_loss): 0.355234\n",
      "반복(Epoch): 185, Fine-tuning 손실 함수(finetuning_loss): 0.352301\n",
      "반복(Epoch): 190, Fine-tuning 손실 함수(finetuning_loss): 0.349470\n",
      "반복(Epoch): 195, Fine-tuning 손실 함수(finetuning_loss): 0.346734\n",
      "반복(Epoch): 200, Fine-tuning 손실 함수(finetuning_loss): 0.344087\n",
      "Step 2 : MNIST 데이터 분류를 위한 오토인코더+Softmax 분류기 최적화 완료(Fine-Tuning)\n"
     ]
    }
   ],
   "source": [
    "# Step 2: MNIST 데이터 분류를 위한 오토인코더+Softmax 분류기 최적화(Fine-tuning)를 수행\n",
    "# 이때 오토인코더의 파라미터들은 MNIST 데이터 재구축이 아니라 숫자 분류를 목적으로 다시 한번 최적화됨\n",
    "for epoch in range(num_epochs + 100): #num_epochs = 100\n",
    "    average_loss = 0\n",
    "    # 모든 배치들에 대해서 최적화를 수행\n",
    "    for i in range(total_batch): # total_batch = 164\n",
    "        start = ((i+1) * batch_size) - batch_size\n",
    "        # 데이터를 분할하기 위해 start라는 변수를 선언\n",
    "        # i는 0에서 164까지 변함\n",
    "        # i = 0일 때 start에 저장되는 값은 (0+1)*256)-256이므로 0이 저장\n",
    "        end = ((i+1) * batch_size)\n",
    "        # 데이터를 분할하기 위해 end라는 변수를 선언\n",
    "        # i = 0일 때 emd에 저장되는 값은 (0+1)*256)이므로 256이 저장\n",
    "        batch_xs = train_input[start:end] / 255\n",
    "        # batch_xs : train 데이터의 input을 저장하는 변수\n",
    "        # train_input[start:end]는 train_input[0:256]과 같음\n",
    "        # 즉, train_inpuf에서 0~256에 위치하는 데이터를 불러서 batch_xs에 저장\n",
    "        batch_ys = train_label[start:end]\n",
    "        # batch_ys = train 데이터의 label을 저장하는 변수\n",
    "        # train_label[start:end]는 train_label[0:256]과 같음\n",
    "        # train_label에서 0~100에 위치하는 데이터를 불러서 batch_ys에 저장\n",
    "        feed_dict = {x: batch_xs, y: batch_ys}\n",
    "        # feed dictionary를 선언\n",
    "        # x는 input data에 대한 placeholder이며, \n",
    "        # y는 output data 즉, label를 담는 placeholder임\n",
    "        # x에 batch_xs를 담고, y에 batch_ys를 담음 \n",
    "        # 옵티마이저를 실행해서 파라마터들을 업데이트\n",
    "        _, finetuning_loss_print = sess.run([finetuning_train_step, finetuning_loss], feed_dict=feed_dict)\n",
    "        # 평균 손실을 측정\n",
    "        average_loss += finetuning_loss_print / total_batch\n",
    "    # 지정된 epoch마다 학습결과를 출력\n",
    "    if epoch % display_step == 0: # display_step = 5\n",
    "        print(\"반복(Epoch): %d, Fine-tuning 손실 함수(finetuning_loss): %f\" % ((epoch+display_step), average_loss))\n",
    "print(\"Step 2 : MNIST 데이터 분류를 위한 오토인코더+Softmax 분류기 최적화 완료(Fine-Tuning)\")"
   ]
  },
  {
   "cell_type": "code",
   "execution_count": 18,
   "metadata": {},
   "outputs": [
    {
     "name": "stdout",
     "output_type": "stream",
     "text": [
      "정확도(오토인코더+Softmax 분류기): 0.870000\n"
     ]
    }
   ],
   "source": [
    "# 오토인코더+Softmax 분류기 모델의 정확도를 출력\n",
    "correct_prediction = tf.equal(tf.argmax(y,1), tf.argmax(y_pred_softmax,1))\n",
    "accuracy = tf.reduce_mean(tf.cast(correct_prediction, tf.float32))\n",
    "print(\"정확도(오토인코더+Softmax 분류기): %f\" % sess.run(accuracy, feed_dict={x: test_input, y: test_label})) "
   ]
  },
  {
   "cell_type": "markdown",
   "metadata": {},
   "source": [
    "# 내가 그린 데이터로 연습해보기(myMNIST)"
   ]
  },
  {
   "cell_type": "code",
   "execution_count": 19,
   "metadata": {},
   "outputs": [
    {
     "data": {
      "text/plain": [
       "['1.png',\n",
       " '2.png',\n",
       " '3.png',\n",
       " '4.png',\n",
       " '5.png',\n",
       " '6.png',\n",
       " '7.png',\n",
       " '7_2.png',\n",
       " '8.png',\n",
       " '9.png']"
      ]
     },
     "execution_count": 19,
     "metadata": {},
     "output_type": "execute_result"
    }
   ],
   "source": [
    "# train data path\n",
    "import os\n",
    "path = 'D:/myMNIST/'\n",
    "myimg_list = os.listdir(path)\n",
    "myimg_list"
   ]
  },
  {
   "cell_type": "code",
   "execution_count": 20,
   "metadata": {},
   "outputs": [],
   "source": [
    "import cv2\n",
    "mytrain_input = []\n",
    "for img in myimg_list:\n",
    "    img_path = os.path.join(path, img)\n",
    "    img = cv2.imread(img_path, cv2.IMREAD_GRAYSCALE)\n",
    "    # cv2.imread: paht경로에 있는 이미지를 흑백으로 불러옴\n",
    "    mytrain_input.append([np.array(img)])"
   ]
  },
  {
   "cell_type": "code",
   "execution_count": 21,
   "metadata": {},
   "outputs": [
    {
     "data": {
      "text/plain": [
       "<matplotlib.image.AxesImage at 0x25ada91da20>"
      ]
     },
     "execution_count": 21,
     "metadata": {},
     "output_type": "execute_result"
    },
    {
     "data": {
      "image/png": "[encoded data removed]",
      "text/plain": [
       "<Figure size 432x288 with 1 Axes>"
      ]
     },
     "metadata": {
      "needs_background": "light"
     },
     "output_type": "display_data"
    }
   ],
   "source": [
    "# 마지막 이미지 시각화\n",
    "%matplotlib inline\n",
    "from matplotlib import pyplot as plt\n",
    "plt.imshow(img, cmap='gray')"
   ]
  },
  {
   "cell_type": "code",
   "execution_count": 22,
   "metadata": {},
   "outputs": [
    {
     "name": "stdout",
     "output_type": "stream",
     "text": [
      "(10, 784)\n"
     ]
    }
   ],
   "source": [
    "mytrain_input = np.reshape(mytrain_input, (-1, 784))\n",
    "mytrain_input = mytrain_input.astype(np.float32)\n",
    "print(mytrain_input.shape)"
   ]
  },
  {
   "cell_type": "code",
   "execution_count": 23,
   "metadata": {},
   "outputs": [
    {
     "data": {
      "text/plain": [
       "array([6, 2, 5, 4, 5, 4, 2, 3, 8, 3], dtype=int64)"
      ]
     },
     "execution_count": 23,
     "metadata": {},
     "output_type": "execute_result"
    }
   ],
   "source": [
    "mytrain_input = mytrain_input / 255\n",
    "correct_prediction = tf.argmax(y_pred_softmax, 1)\n",
    "sess.run(correct_prediction, feed_dict={x: mytrain_input})"
   ]
  },
  {
   "cell_type": "code",
   "execution_count": 26,
   "metadata": {},
   "outputs": [
    {
     "name": "stderr",
     "output_type": "stream",
     "text": [
      "C:\\Users\\tldud\\.conda\\envs\\tldud\\lib\\site-packages\\ipykernel_launcher.py:5: UserWarning: Matplotlib is currently using module://ipykernel.pylab.backend_inline, which is a non-GUI backend, so cannot show the figure.\n",
      "  \"\"\"\n"
     ]
    },
    {
     "data": {
      "image/png": "[encoded data removed]",
      "text/plain": [
       "<Figure size 720x72 with 10 Axes>"
      ]
     },
     "metadata": {
      "needs_background": "light"
     },
     "output_type": "display_data"
    }
   ],
   "source": [
    "# 원본 MNIST 데이터와 Reconstruction 결과를 비교\n",
    "f, a = plt.subplots(1, 10, figsize=(10, 1))\n",
    "for i in range(len(mytrain_input)):\n",
    "    a[i].imshow(np.reshape(mytrain_input[i], (28, 28)), cmap='gray')\n",
    "f.show()"
   ]
  },
  {
   "cell_type": "markdown",
   "metadata": {},
   "source": [
    "### 정확도 0.3\n",
    "기존 ANN(3layer)보다 성능이 안좋음..."
   ]
  },
  {
   "cell_type": "code",
   "execution_count": null,
   "metadata": {},
   "outputs": [],
   "source": []
  }
 ],
 "metadata": {
  "kernelspec": {
   "display_name": "Python 3",
   "language": "python",
   "name": "python3"
  },
  "language_info": {
   "codemirror_mode": {
    "name": "ipython",
    "version": 3
   },
   "file_extension": ".py",
   "mimetype": "text/x-python",
   "name": "python",
   "nbconvert_exporter": "python",
   "pygments_lexer": "ipython3",
   "version": "3.6.8"
  }
 },
 "nbformat": 4,
 "nbformat_minor": 2
}
