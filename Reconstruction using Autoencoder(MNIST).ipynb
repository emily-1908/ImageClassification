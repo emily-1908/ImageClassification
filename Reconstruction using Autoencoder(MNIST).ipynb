{
 "cells": [
  {
   "cell_type": "markdown",
   "metadata": {},
   "source": [
    "# train data vectorizing & labeling"
   ]
  },
  {
   "cell_type": "code",
   "execution_count": 1,
   "metadata": {},
   "outputs": [
    {
     "data": {
      "text/plain": [
       "array(['0_zero', '1_one', '2_two', '3_three', '4_four', '5_five', '6_six',\n",
       "       '7_seven', '8_eight', '9_nine'], dtype='<U7')"
      ]
     },
     "execution_count": 1,
     "metadata": {},
     "output_type": "execute_result"
    }
   ],
   "source": [
    "# train data path\n",
    "import os\n",
    "import numpy as np\n",
    "from numpy import array\n",
    "TRAIN_DIR = 'D:/MNIST/trainingSet/'\n",
    "train_folder_list = array(os.listdir(TRAIN_DIR))\n",
    "train_folder_list"
   ]
  },
  {
   "cell_type": "code",
   "execution_count": 2,
   "metadata": {},
   "outputs": [
    {
     "data": {
      "text/plain": [
       "array([0, 1, 2, 3, 4, 5, 6, 7, 8, 9], dtype=int64)"
      ]
     },
     "execution_count": 2,
     "metadata": {},
     "output_type": "execute_result"
    }
   ],
   "source": [
    "# path 라벨링\n",
    "from sklearn.preprocessing import LabelEncoder\n",
    "label_encoder = LabelEncoder()  # LabelEncoder Class 호출\n",
    "integer_encoded = label_encoder.fit_transform(train_folder_list)\n",
    "integer_encoded"
   ]
  },
  {
   "cell_type": "code",
   "execution_count": 3,
   "metadata": {},
   "outputs": [
    {
     "name": "stdout",
     "output_type": "stream",
     "text": [
      "integer_encoded:\n",
      " [[0]\n",
      " [1]\n",
      " [2]\n",
      " [3]\n",
      " [4]\n",
      " [5]\n",
      " [6]\n",
      " [7]\n",
      " [8]\n",
      " [9]]\n",
      "onehot_encoded:\n",
      " [[1. 0. 0. 0. 0. 0. 0. 0. 0. 0.]\n",
      " [0. 1. 0. 0. 0. 0. 0. 0. 0. 0.]\n",
      " [0. 0. 1. 0. 0. 0. 0. 0. 0. 0.]\n",
      " [0. 0. 0. 1. 0. 0. 0. 0. 0. 0.]\n",
      " [0. 0. 0. 0. 1. 0. 0. 0. 0. 0.]\n",
      " [0. 0. 0. 0. 0. 1. 0. 0. 0. 0.]\n",
      " [0. 0. 0. 0. 0. 0. 1. 0. 0. 0.]\n",
      " [0. 0. 0. 0. 0. 0. 0. 1. 0. 0.]\n",
      " [0. 0. 0. 0. 0. 0. 0. 0. 1. 0.]\n",
      " [0. 0. 0. 0. 0. 0. 0. 0. 0. 1.]]\n"
     ]
    }
   ],
   "source": [
    "# 라벨링 벡터화\n",
    "from sklearn.preprocessing import OneHotEncoder\n",
    "onehot_encoder = OneHotEncoder(categories='auto', sparse=False) \n",
    "integer_encoded = integer_encoded.reshape(len(integer_encoded), 1)\n",
    "onehot_encoded = onehot_encoder.fit_transform(integer_encoded)\n",
    "print('integer_encoded:\\n', integer_encoded)\n",
    "print('onehot_encoded:\\n', onehot_encoded)"
   ]
  },
  {
   "cell_type": "code",
   "execution_count": 4,
   "metadata": {},
   "outputs": [
    {
     "data": {
      "text/plain": [
       "numpy.ndarray"
      ]
     },
     "execution_count": 4,
     "metadata": {},
     "output_type": "execute_result"
    }
   ],
   "source": [
    "type(onehot_encoded)"
   ]
  },
  {
   "cell_type": "code",
   "execution_count": 5,
   "metadata": {},
   "outputs": [],
   "source": [
    "# 이미지를 불러와서 흑백으로 벡터화 및 라벨링\n",
    "import cv2\n",
    "train_input = []\n",
    "train_label = []\n",
    "for index in range(len(train_folder_list)):\n",
    "    path = os.path.join(TRAIN_DIR, train_folder_list[index])\n",
    "    path = path + '/'\n",
    "    img_list = os.listdir(path)\n",
    "    for img in img_list:\n",
    "        img_path = os.path.join(path, img)\n",
    "        img = cv2.imread(img_path, cv2.IMREAD_GRAYSCALE)\n",
    "        # cv2.imread: paht경로에 있는 이미지를 흑백으로 불러옴\n",
    "        train_input.append([np.array(img)])\n",
    "        train_label.append([np.array(onehot_encoded[index])])"
   ]
  },
  {
   "cell_type": "code",
   "execution_count": 6,
   "metadata": {},
   "outputs": [
    {
     "data": {
      "text/plain": [
       "<matplotlib.image.AxesImage at 0x2145cb54d68>"
      ]
     },
     "execution_count": 6,
     "metadata": {},
     "output_type": "execute_result"
    },
    {
     "data": {
      "image/png": "[encoded data removed]",
      "text/plain": [
       "<Figure size 432x288 with 1 Axes>"
      ]
     },
     "metadata": {
      "needs_background": "light"
     },
     "output_type": "display_data"
    }
   ],
   "source": [
    "# 마지막 이미지 시각화\n",
    "%matplotlib inline\n",
    "from matplotlib import pyplot as plt\n",
    "plt.imshow(img, cmap='gray')"
   ]
  },
  {
   "cell_type": "code",
   "execution_count": 7,
   "metadata": {},
   "outputs": [
    {
     "data": {
      "text/plain": [
       "42000"
      ]
     },
     "execution_count": 7,
     "metadata": {},
     "output_type": "execute_result"
    }
   ],
   "source": [
    "len(train_input) #train_input은 [[img],[img],...,[img]] 이런 형태"
   ]
  },
  {
   "cell_type": "markdown",
   "metadata": {},
   "source": [
    "### list형태를 np.array형태(42000,784)로 reshape"
   ]
  },
  {
   "cell_type": "code",
   "execution_count": 8,
   "metadata": {},
   "outputs": [
    {
     "name": "stdout",
     "output_type": "stream",
     "text": [
      "train_input.shape:  (42000, 784)\n",
      "train_label.shape:  (42000, 10)\n"
     ]
    }
   ],
   "source": [
    "train_input = np.reshape(train_input, (-1, 784))\n",
    "# 이때 -1은 정확한 개수를 모를때 사용. -1대신 42000 넣어도 상관x\n",
    "train_label = np.reshape(train_label, (-1, 10))\n",
    "train_input = np.array(train_input).astype(np.float32)\n",
    "train_label = np.array(train_label).astype(np.float32)\n",
    "\n",
    "#데이터 섞기\n",
    "tmp = [[x,y] for x, y in zip(train_input, train_label)]\n",
    "np.random.shuffle(tmp)\n",
    "train_input = np.array([n[0] for n in tmp])\n",
    "train_label = np.array([n[1] for n in tmp])\n",
    "\n",
    "np.save(\"train_data.npy\", train_input)\n",
    "np.save(\"train_label.npy\", train_label)\n",
    "print('train_input.shape: ', train_input.shape)\n",
    "print('train_label.shape: ', train_label.shape)"
   ]
  },
  {
   "cell_type": "markdown",
   "metadata": {},
   "source": [
    "# test data vectorizing & labeling"
   ]
  },
  {
   "cell_type": "code",
   "execution_count": 9,
   "metadata": {},
   "outputs": [],
   "source": [
    "TEST_DIR = 'D:/MNIST/testSet/'\n",
    "test_folder_list = array(os.listdir(TEST_DIR))\n",
    " \n",
    "test_input = []\n",
    "test_label = []\n",
    " \n",
    "label_encoder = LabelEncoder()\n",
    "integer_encoded = label_encoder.fit_transform(test_folder_list)\n",
    " \n",
    "onehot_encoder = OneHotEncoder(categories='auto', sparse=False) \n",
    "integer_encoded = integer_encoded.reshape(len(integer_encoded), 1)\n",
    "onehot_encoded = onehot_encoder.fit_transform(integer_encoded)\n",
    " \n",
    "for index in range(len(test_folder_list)):\n",
    "    path = os.path.join(TEST_DIR, test_folder_list[index])\n",
    "    path = path + '/'\n",
    "    img_list = os.listdir(path)\n",
    "    for img in img_list:\n",
    "        img_path = os.path.join(path, img)\n",
    "        img = cv2.imread(img_path, cv2.IMREAD_GRAYSCALE)\n",
    "        test_input.append([np.array(img)])\n",
    "        test_label.append([np.array(onehot_encoded[index])])\n",
    " \n",
    "test_input = np.reshape(test_input, (-1, 784))\n",
    "test_label = np.reshape(test_label, (-1, 10))\n",
    "test_input = np.array(test_input).astype(np.float32)\n",
    "test_label = np.array(test_label).astype(np.float32)\n",
    "\n",
    "#데이터 섞기\n",
    "tmp = [[x,y] for x, y in zip(test_input, test_label)]\n",
    "np.random.shuffle(tmp)\n",
    "test_input = np.array([n[0] for n in tmp])\n",
    "test_label = np.array([n[1] for n in tmp])\n",
    "\n",
    "np.save(\"test_input.npy\",test_input)\n",
    "np.save(\"test_label.npy\",test_label)"
   ]
  },
  {
   "cell_type": "markdown",
   "metadata": {},
   "source": [
    "# Autoencoder를 이용한 MNIST 데이터 재구축"
   ]
  },
  {
   "cell_type": "code",
   "execution_count": 18,
   "metadata": {},
   "outputs": [],
   "source": [
    "import tensorflow as tf\n",
    "\n",
    "# 학습에 필요한 설정값들을 정의\n",
    "learning_rate = 0.02\n",
    "training_epochs = 50    # 반복횟수\n",
    "batch_size = 256        # 배치개수\n",
    "display_step = 5        # 손실함수 출력 주기\n",
    "examples_to_show = 10   # 보여줄 MNIST Reconstruction 이미지 개수\n",
    "input_size = 784        # 28*28\n",
    "hidden1_size = 256      # 16*16\n",
    "hidden2_size = 128\n",
    "\n",
    "# 입력을 받기 위한 플레이스홀더를 정의\n",
    "# Autoencoder는 Unsupervised Learning이므로 타겟 레이블(label) y가 필요하지 않음\n",
    "x = tf.placeholder(tf.float32, shape=[None, input_size])\n",
    "#y = tf.placeholder(tf.float32, shape=[None, 10]) "
   ]
  },
  {
   "cell_type": "code",
   "execution_count": 19,
   "metadata": {},
   "outputs": [],
   "source": [
    "# Autoencoder 구조를 정의\n",
    "def build_autoencoder(x):\n",
    "    # 인코딩(Encoding) - 784 -> 256 -> 128\n",
    "    W1 = tf.Variable(tf.random_normal(shape=[input_size, hidden1_size]))\n",
    "    b1 = tf.Variable(tf.random_normal(shape=[hidden1_size]))\n",
    "    H1_output = tf.nn.sigmoid(tf.matmul(x,W1) + b1)\n",
    "    W2 = tf.Variable(tf.random_normal(shape=[hidden1_size, hidden2_size]))\n",
    "    b2 = tf.Variable(tf.random_normal(shape=[hidden2_size]))\n",
    "    H2_output = tf.nn.sigmoid(tf.matmul(H1_output,W2) + b2)\n",
    "    # 디코딩(Decoding) 128 -> 256 -> 784\n",
    "    W3 = tf.Variable(tf.random_normal(shape=[hidden2_size, hidden1_size]))\n",
    "    b3 = tf.Variable(tf.random_normal(shape=[hidden1_size]))\n",
    "    H3_output = tf.nn.sigmoid(tf.matmul(H2_output,W3) + b3)\n",
    "    W4 = tf.Variable(tf.random_normal(shape=[hidden1_size, input_size]))\n",
    "    b4 = tf.Variable(tf.random_normal(shape=[input_size]))\n",
    "    reconstructed_x = tf.nn.sigmoid(tf.matmul(H1_output,W4) + b4)\n",
    "\n",
    "    return reconstructed_x"
   ]
  },
  {
   "cell_type": "code",
   "execution_count": 20,
   "metadata": {},
   "outputs": [],
   "source": [
    "# Autoencoder를 선언\n",
    "y_pred = build_autoencoder(x)\n",
    "# 타겟데이터는 인풋데이터와 같음\n",
    "y_true = x\n",
    "\n",
    "# 손실함수와 옵티마이저를 정의\n",
    "loss = tf.reduce_mean(tf.pow(y_true - y_pred, 2))   # MSE 손실함수\n",
    "train_step = tf.train.RMSPropOptimizer(learning_rate).minimize(loss)"
   ]
  },
  {
   "cell_type": "code",
   "execution_count": 21,
   "metadata": {},
   "outputs": [
    {
     "name": "stdout",
     "output_type": "stream",
     "text": [
      "반복(Epoch): 5, 손실 함수(Loss): 0.418762\n",
      "반복(Epoch): 10, 손실 함수(Loss): 0.055517\n",
      "반복(Epoch): 15, 손실 함수(Loss): 0.042427\n",
      "반복(Epoch): 20, 손실 함수(Loss): 0.035901\n",
      "반복(Epoch): 25, 손실 함수(Loss): 0.033543\n",
      "반복(Epoch): 30, 손실 함수(Loss): 0.031739\n",
      "반복(Epoch): 35, 손실 함수(Loss): 0.031344\n",
      "반복(Epoch): 40, 손실 함수(Loss): 0.029855\n",
      "반복(Epoch): 45, 손실 함수(Loss): 0.028956\n",
      "반복(Epoch): 50, 손실 함수(Loss): 0.027216\n"
     ]
    }
   ],
   "source": [
    "# 세션을 열고 변수들에 초기값을 할당\n",
    "sess = tf.Session()\n",
    "sess.run(tf.global_variables_initializer())\n",
    "\n",
    "# 전체 배치 개수를 불러옴\n",
    "total_batch = int(len(train_input)/batch_size) # total_batch = int(42000/300) = 140\n",
    "\n",
    "# 지정된 횟수만큼 최적화를 수행\n",
    "for epoch in range(training_epochs): # training_epochs = 30000\n",
    "    average_loss = 0\n",
    "    # 모든 배치들에 대해서 최적화를 수행\n",
    "    for i in range(total_batch):\n",
    "        start = ((i+1) * batch_size) - batch_size\n",
    "        # 데이터를 분할하기 위해 start라는 변수를 선언\n",
    "        # i는 0에서 164까지 변함\n",
    "        # i = 0일 때 start에 저장되는 값은 (0+1)*256)-256이므로 0이 저장\n",
    "        end = ((i+1) * batch_size)\n",
    "        # 데이터를 분할하기 위해 end라는 변수를 선언\n",
    "        # i = 0일 때 emd에 저장되는 값은 (0+1)*256)이므로 256이 저장\n",
    "        batch_xs = train_input[start:end] / 255\n",
    "        # batch_xs : train 데이터의 input을 저장하는 변수\n",
    "        # train_input[start:end]는 train_input[0:256]과 같음\n",
    "        # 즉, train_input에서 0~256에 위치하는 데이터를 불러서 batch_xs에 저장\n",
    "        feed_dict = {x: batch_xs}\n",
    "        # feed dictionary를 선언\n",
    "        # x는 input data에 대한 placeholder\n",
    "        _, current_loss = sess.run([train_step, loss], feed_dict=feed_dict)\n",
    "        # 옵티마이저를 실행해서 파라마터들을 업데이트\n",
    "        average_loss += current_loss / total_batch\n",
    "        # 평균 손실을 측정\n",
    "    # 지정된 epoch마다 학습결과를 출력\n",
    "    if epoch % display_step == 0:\n",
    "        print(\"반복(Epoch): %d, 손실 함수(Loss): %f\" % ((epoch+display_step), average_loss))"
   ]
  },
  {
   "cell_type": "code",
   "execution_count": 22,
   "metadata": {},
   "outputs": [
    {
     "name": "stderr",
     "output_type": "stream",
     "text": [
      "C:\\Users\\tldud\\.conda\\envs\\tldud\\lib\\site-packages\\ipykernel_launcher.py:12: UserWarning: Matplotlib is currently using module://ipykernel.pylab.backend_inline, which is a non-GUI backend, so cannot show the figure.\n",
      "  if sys.path[0] == '':\n"
     ]
    },
    {
     "data": {
      "image/png": "[encoded data removed]",
      "text/plain": [
       "<Figure size 720x144 with 20 Axes>"
      ]
     },
     "metadata": {
      "needs_background": "light"
     },
     "output_type": "display_data"
    }
   ],
   "source": [
    "import matplotlib.pyplot as plt\n",
    "\n",
    "# 테스트 데이터로 Reconstruction을 수행\n",
    "# examples_to_show = 10\n",
    "reconstructed_result = sess.run(y_pred, feed_dict={x:test_input[:examples_to_show]})\n",
    "# 원본 MNIST 데이터와 Reconstruction 결과를 비교\n",
    "f, a = plt.subplots(2, 10, figsize=(10, 2))\n",
    "for i in range(examples_to_show):\n",
    "    a[0][i].imshow(np.reshape(test_input[i], (28, 28)))\n",
    "    a[1][i].imshow(np.reshape(reconstructed_result[i], (28, 28)))\n",
    "f.savefig('reconstructed_mnist_image.png')  # reconstruction 결과를 png로 저장\n",
    "f.show()\n",
    "#plt.draw()\n",
    "#plt.waitforbuttonpress()"
   ]
  },
  {
   "cell_type": "code",
   "execution_count": null,
   "metadata": {},
   "outputs": [],
   "source": []
  }
 ],
 "metadata": {
  "kernelspec": {
   "display_name": "Python 3",
   "language": "python",
   "name": "python3"
  },
  "language_info": {
   "codemirror_mode": {
    "name": "ipython",
    "version": 3
   },
   "file_extension": ".py",
   "mimetype": "text/x-python",
   "name": "python",
   "nbconvert_exporter": "python",
   "pygments_lexer": "ipython3",
   "version": "3.6.8"
  }
 },
 "nbformat": 4,
 "nbformat_minor": 2
}
